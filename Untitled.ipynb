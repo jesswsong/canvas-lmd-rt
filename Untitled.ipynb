{
 "cells": [
  {
   "cell_type": "code",
   "execution_count": 1,
   "id": "3c9a804d",
   "metadata": {},
   "outputs": [
    {
     "name": "stdout",
     "output_type": "stream",
     "text": [
      "callbacks\n",
      "commands\n",
      "configuration_utils\n",
      "dependency_versions_check\n",
      "dependency_versions_table\n",
      "experimental\n",
      "image_processor\n",
      "loaders\n",
      "models\n",
      "optimization\n",
      "pipelines\n",
      "schedulers\n",
      "training_utils\n",
      "utils\n",
      "video_processor\n"
     ]
    }
   ],
   "source": [
    "import diffusers\n",
    "import pkgutil\n",
    "\n",
    "package = diffusers\n",
    "for importer, modname, ispkg in pkgutil.iter_modules(package.__path__):\n",
    "    print(modname)\n"
   ]
  },
  {
   "cell_type": "code",
   "execution_count": 3,
   "id": "c2a1f6d9",
   "metadata": {},
   "outputs": [
    {
     "name": "stderr",
     "output_type": "stream",
     "text": [
      "2024-07-13 22:33:15.575995: I tensorflow/core/util/port.cc:110] oneDNN custom operations are on. You may see slightly different numerical results due to floating-point round-off errors from different computation orders. To turn them off, set the environment variable `TF_ENABLE_ONEDNN_OPTS=0`.\n",
      "2024-07-13 22:33:15.625983: I tensorflow/core/platform/cpu_feature_guard.cc:182] This TensorFlow binary is optimized to use available CPU instructions in performance-critical operations.\n",
      "To enable the following instructions: AVX2 AVX512F AVX512_VNNI FMA, in other operations, rebuild TensorFlow with the appropriate compiler flags.\n"
     ]
    },
    {
     "name": "stdout",
     "output_type": "stream",
     "text": [
      "Submodules in diffusers.models.transformers:\n",
      "dit_transformer_2d\n",
      "dual_transformer_2d\n",
      "hunyuan_transformer_2d\n",
      "pixart_transformer_2d\n",
      "prior_transformer\n",
      "t5_film_transformer\n",
      "transformer_2d\n",
      "transformer_sd3\n",
      "transformer_temporal\n"
     ]
    }
   ],
   "source": [
    "import importlib\n",
    "import pkgutil\n",
    "\n",
    "def list_submodules(module_name):\n",
    "    module = importlib.import_module(module_name)\n",
    "    print(f\"Submodules in {module_name}:\")\n",
    "    for importer, modname, ispkg in pkgutil.iter_modules(module.__path__):\n",
    "        print(modname)\n",
    "\n",
    "list_submodules('diffusers.models.transformers')\n"
   ]
  },
  {
   "cell_type": "code",
   "execution_count": null,
   "id": "b1187511",
   "metadata": {},
   "outputs": [],
   "source": []
  }
 ],
 "metadata": {
  "kernelspec": {
   "display_name": "Python 3 (ipykernel)",
   "language": "python",
   "name": "python3"
  },
  "language_info": {
   "codemirror_mode": {
    "name": "ipython",
    "version": 3
   },
   "file_extension": ".py",
   "mimetype": "text/x-python",
   "name": "python",
   "nbconvert_exporter": "python",
   "pygments_lexer": "ipython3",
   "version": "3.9.5"
  }
 },
 "nbformat": 4,
 "nbformat_minor": 5
}
